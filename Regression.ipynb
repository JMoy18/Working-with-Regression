{
 "cells": [
  {
   "cell_type": "code",
   "execution_count": 31,
   "id": "c69953b7",
   "metadata": {},
   "outputs": [
    {
     "name": "stdout",
     "output_type": "stream",
     "text": [
      "4202719.00030353\n"
     ]
    },
    {
     "data": {
      "text/html": [
       "<div>\n",
       "<style scoped>\n",
       "    .dataframe tbody tr th:only-of-type {\n",
       "        vertical-align: middle;\n",
       "    }\n",
       "\n",
       "    .dataframe tbody tr th {\n",
       "        vertical-align: top;\n",
       "    }\n",
       "\n",
       "    .dataframe thead th {\n",
       "        text-align: right;\n",
       "    }\n",
       "</style>\n",
       "<table border=\"1\" class=\"dataframe\">\n",
       "  <thead>\n",
       "    <tr style=\"text-align: right;\">\n",
       "      <th></th>\n",
       "      <th>df</th>\n",
       "      <th>Sum of Squares</th>\n",
       "      <th>Mean Square</th>\n",
       "      <th>F</th>\n",
       "    </tr>\n",
       "    <tr>\n",
       "      <th>Source</th>\n",
       "      <th></th>\n",
       "      <th></th>\n",
       "      <th></th>\n",
       "      <th></th>\n",
       "    </tr>\n",
       "  </thead>\n",
       "  <tbody>\n",
       "    <tr>\n",
       "      <th>Regression</th>\n",
       "      <td>1</td>\n",
       "      <td>6.724243e+09</td>\n",
       "      <td>6724243156.365673</td>\n",
       "      <td>387.346518</td>\n",
       "    </tr>\n",
       "    <tr>\n",
       "      <th>Error</th>\n",
       "      <td>442</td>\n",
       "      <td>7.673015e+09</td>\n",
       "      <td>3836507287.593774</td>\n",
       "      <td></td>\n",
       "    </tr>\n",
       "    <tr>\n",
       "      <th>Total</th>\n",
       "      <td>443</td>\n",
       "      <td>1.439726e+10</td>\n",
       "      <td></td>\n",
       "      <td></td>\n",
       "    </tr>\n",
       "  </tbody>\n",
       "</table>\n",
       "</div>"
      ],
      "text/plain": [
       "             df  Sum of Squares        Mean Square           F\n",
       "Source                                                        \n",
       "Regression    1    6.724243e+09  6724243156.365673  387.346518\n",
       "Error       442    7.673015e+09  3836507287.593774            \n",
       "Total       443    1.439726e+10                               "
      ]
     },
     "execution_count": 31,
     "metadata": {},
     "output_type": "execute_result"
    }
   ],
   "source": [
    "def single_linear_regression(dataframe, dependent_variable, independent_variable):\n",
    "    import pandas as pd\n",
    "    import math\n",
    "    import statistics as sd\n",
    "\n",
    "    n = len(df)\n",
    "    \n",
    "    #calculating the means\n",
    "    dep_mean = dataframe[dependent_variable].sum()\n",
    "    print(dep_mean)\n",
    "    ind_mean = dataframe[independent_variable].mean()\n",
    "    \n",
    "    #calcuate the sd\n",
    "    dep_sd = sd.stdev(dataframe[dependent_variable])\n",
    "    \n",
    "    #calculate correlation coeff\n",
    "    sum_dep = dataframe[dependent_variable].sum()\n",
    "    sum_ind = dataframe[independent_variable].sum()\n",
    "    \n",
    "    dep_square_df = (dataframe[independent_variable]**2).sum()\n",
    "    ind_square_df = (dataframe[dependent_variable]**2).sum()\n",
    "\n",
    "    sum_depind = (dataframe[dependent_variable]*dataframe[independent_variable]).sum()\n",
    "    r_num = n*sum_depind - sum_dep*sum_ind\n",
    "    r_denom = (n*dep_square_df - (dataframe['x'].sum())**2)*(n*ind_square_df - (dataframe['y'].sum())**2)\n",
    "    r = r_num/math.sqrt(r_denom)\n",
    "    \n",
    "    #creating the ANOVA table\n",
    "    TSS = (n-1)*(dep_sd**2)\n",
    "    \n",
    "    sum_squares_reg = r**2 * TSS\n",
    "    mean_square_reg = r**2 * TSS\n",
    "    F_dist = ((n-2)*r**2)/(1-r**2)\n",
    "    \n",
    "    sum_squares_error = (1-r**2) * TSS\n",
    "    mean_square_error = ((1-r**2) * TSS)/(n-2) \n",
    "    sum_square_output = []\n",
    "    \n",
    "    ANOVA = pd.DataFrame({\"Source\":[\"Regression\", \"Error\", \"Total\"],\n",
    "                          \"df\": [1, n-2, n-1], \n",
    "                          \"Sum of Squares\":[sum_squares_reg, TSS-sum_squares_reg, TSS],\n",
    "                         \"Mean Square\":[mean_square_reg,(TSS-sum_squares_reg)/2, \"\"],\n",
    "                         \"F\":[F_dist,\"\",\"\"]}).set_index(\"Source\")\n",
    "    return ANOVA\n",
    "\n",
    "single_linear_regression(df,'y',\"x\")"
   ]
  },
  {
   "cell_type": "code",
   "execution_count": 42,
   "id": "f4cd10fe",
   "metadata": {},
   "outputs": [
    {
     "data": {
      "image/png": "[encoded data removed]",
      "text/plain": [
       "<Figure size 432x288 with 1 Axes>"
      ]
     },
     "metadata": {
      "needs_background": "light"
     },
     "output_type": "display_data"
    },
    {
     "name": "stdout",
     "output_type": "stream",
     "text": [
      "Regression Equation: y=-1767.941 + 887.152*X\n"
     ]
    }
   ],
   "source": [
    "def regression_graph(dataframe, dependent_variable, independent_variable):\n",
    "    import matplotlib.pyplot as plt\n",
    "    import numpy as np\n",
    "    import pandas as pd\n",
    "    import math\n",
    "    \n",
    "    n = len(df)\n",
    "    sum_dep = dataframe[dependent_variable].sum()\n",
    "    sum_ind = dataframe[independent_variable].sum()\n",
    "    \n",
    "    dep_square_df = (dataframe[independent_variable]**2).sum()\n",
    "    ind_square_df = (dataframe[dependent_variable]**2).sum()\n",
    "\n",
    "    sum_depind = (dataframe[dependent_variable]*dataframe[independent_variable]).sum()\n",
    "    r_num = n*sum_depind - sum_dep*sum_ind\n",
    "    r_denom = (n*dep_square_df - (dataframe['x'].sum())**2)*(n*ind_square_df - (dataframe['y'].sum())**2)\n",
    "    r = r_num/math.sqrt(r_denom)\n",
    "    \n",
    "    \n",
    "    #determining where the linear regression line should start and stop, based off the data\n",
    "    start = min(dataframe[independent_variable])\n",
    "    end = max(dataframe[independent_variable])\n",
    "    \n",
    "    #The regression equation\n",
    "    B1 = dataframe[dependent_variable].std()/ dataframe[independent_variable].std()*r\n",
    "    Bo = dataframe[dependent_variable].mean() - dataframe[independent_variable].mean() * B1\n",
    "    pred_values = []\n",
    "    \n",
    "    #The values in which the regression equation is based off of and than creating the nested lists into a dataframe\n",
    "    while start <= end:\n",
    "        pred_values.append([start, Bo + B1 * start])\n",
    "        start += .01\n",
    "    predicted_values = pd.DataFrame(pred_values, columns = ['x', 'predicted y'])\n",
    "    \n",
    "    #making the graphs and displaying them\n",
    "    ax = dataframe.plot.scatter(independent_variable, dependent_variable, color = 'k')\n",
    "    predicted_values.plot.scatter('x', 'predicted y', color = 'r', ax=ax, s=0.5)\n",
    "    ax.set_xlabel(\"X\")\n",
    "    ax.set_ylabel(\"Y\")\n",
    "    \n",
    "    plt.show()\n",
    "    print(f\"Regression Equation: y={round(Bo,3)} + {round(B1,3)}*X\")\n",
    "    \n",
    "regression_graph(df,'y','x')"
   ]
  }
 ],
 "metadata": {
  "kernelspec": {
   "display_name": "Python 3 (ipykernel)",
   "language": "python",
   "name": "python3"
  },
  "language_info": {
   "codemirror_mode": {
    "name": "ipython",
    "version": 3
   },
   "file_extension": ".py",
   "mimetype": "text/x-python",
   "name": "python",
   "nbconvert_exporter": "python",
   "pygments_lexer": "ipython3",
   "version": "3.9.12"
  }
 },
 "nbformat": 4,
 "nbformat_minor": 5
}
